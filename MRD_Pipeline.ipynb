{
 "cells": [
  {
   "cell_type": "markdown",
   "metadata": {
    "scrolled": true
   },
   "source": [
    "MRD init\n",
    "==\n",
    "* * *"
   ]
  },
  {
   "cell_type": "markdown",
   "metadata": {},
   "source": [
    "### 1. Searching primers\n",
    "##### Variable parameters:\n",
    "* MIST - max permissible hamming (for primer)\n",
    "* SHIFT - for search primer\n",
    "* LOOKBACK - for search primer (-shift)\n",
    "* SEQ_LEN - max len read2 for future clustering\n",
    "##### Steps:\n",
    "* inputdir - folder with raw *.fastq\n",
    "* for each pair (r1, r2) searching best primers from PRIMERSFILE \n",
    "* creating table with colnames:\n",
    "    * FAMILY READ GENE_FWD GENE_REV NAME_FWD NAME_REV PRIMER_FWD PRIMER_REV\n",
    "        * where READ - R2"
   ]
  },
  {
   "cell_type": "code",
   "execution_count": null,
   "metadata": {
    "scrolled": true
   },
   "outputs": [],
   "source": [
    "# All imports here, don't touch it unless you are a developer\n",
    "import imp\n",
    "import count_clones\n",
    "imp.reload(count_clones)\n",
    "\n",
    "# Variable parameters\n",
    "MIST = 2\n",
    "SHIFT = 5\n",
    "LOOKBACK = 1\n",
    "SEQ_LEN = 150\n",
    "\n",
    "\n",
    "# Input FASTQ files folder path\n",
    "INPUTDIR = ''\n",
    "# Output folder\n",
    "OUTPUTDIR = ''\n",
    "# Name of file with stats\n",
    "STATFILE = 'stats_mrd.txt'\n",
    "# File with primers\n",
    "PRIMERSFILE = ''\n",
    "#################################\n",
    "\n",
    "# Main function\n",
    "count_clones.main(inputdir=INPUTDIR,\n",
    "                  outputdir=OUTPUTDIR,\n",
    "                  primersfile=PRIMERSFILE,\n",
    "                  statfile=STATFILE,\n",
    "                  mist=MIST,\n",
    "                  shift=SHIFT,\n",
    "                  lookback=LOOKBACK,\n",
    "                  seq_len=SEQ_LEN,\n",
    "                  is_direct_ordered=True,\n",
    "                  n_core=-1)"
   ]
  },
  {
   "cell_type": "markdown",
   "metadata": {
    "collapsed": true
   },
   "source": [
    "### 1. Clustering reads\n",
    "##### Variable parameters:\n",
    "* MIST - max permissible hamming (for clustering)\n",
    "* TOP - show max TOP cluster in table (if TOP = 'ALL', show all)"
   ]
  },
  {
   "cell_type": "code",
   "execution_count": null,
   "metadata": {},
   "outputs": [],
   "source": [
    "# All imports here, don't touch it unless you are a developer\n",
    "import imp\n",
    "import count_clones_step2\n",
    "imp.reload(count_clones_step2)\n",
    "\n",
    "# Variable parameters\n",
    "MIST = 1\n",
    "TOP = 100\n",
    "\n",
    "\n",
    "# Input FASTQ files folder path\n",
    "INPUTDIR = ''\n",
    "# Output folder\n",
    "OUTPUTDIR = ''\n",
    "#################################\n",
    "\n",
    "# Main function\n",
    "count_clones_step2.main(inputdir=INPUTDIR,\n",
    "                        outputdir=OUTPUTDIR,\n",
    "                        mist=MIST,\n",
    "                        top=TOP,\n",
    "                        n_core=-1)"
   ]
  }
 ],
 "metadata": {
  "anaconda-cloud": {},
  "kernelspec": {
   "display_name": "Python 3",
   "language": "python",
   "name": "python3"
  },
  "language_info": {
   "codemirror_mode": {
    "name": "ipython",
    "version": 3
   },
   "file_extension": ".py",
   "mimetype": "text/x-python",
   "name": "python",
   "nbconvert_exporter": "python",
   "pygments_lexer": "ipython3",
   "version": "3.6.3"
  },
  "widgets": {
   "state": {
    "0ed76296429e4e9eaebead3c636eca37": {
     "views": [
      {
       "cell_index": 2
      }
     ]
    }
   },
   "version": "1.2.0"
  }
 },
 "nbformat": 4,
 "nbformat_minor": 1
}
